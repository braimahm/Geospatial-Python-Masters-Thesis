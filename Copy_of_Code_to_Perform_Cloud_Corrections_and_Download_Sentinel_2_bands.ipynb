{
  "nbformat": 4,
  "nbformat_minor": 0,
  "metadata": {
    "colab": {
      "provenance": []
    },
    "kernelspec": {
      "name": "python3",
      "display_name": "Python 3"
    },
    "language_info": {
      "name": "python"
    },
    "widgets": {
      "application/vnd.jupyter.widget-state+json": {
        "e438aa674d5542e9a67055be9e633987": {
          "model_module": "jupyter-leaflet",
          "model_name": "LeafletMapModel",
          "model_module_version": "^0.18",
          "state": {
            "_dom_classes": [],
            "_model_module": "jupyter-leaflet",
            "_model_module_version": "^0.18",
            "_model_name": "LeafletMapModel",
            "_view_count": null,
            "_view_module": "jupyter-leaflet",
            "_view_module_version": "^0.18",
            "_view_name": "LeafletMapView",
            "bottom": 12578298,
            "bounce_at_zoom_limits": true,
            "box_zoom": true,
            "center": [
              41.01969153364965,
              -81.15113220018283
            ],
            "close_popup_on_click": true,
            "controls": [
              "IPY_MODEL_eb71bd2d2e4c43c28c537b7ec07081c0",
              "IPY_MODEL_9b3c76f6678240719446fc6f4b41bf0b",
              "IPY_MODEL_2580b16e343145309f8ac99734ad1b4d",
              "IPY_MODEL_84fdd9e6dbe3475fb25e2fec748b14e6",
              "IPY_MODEL_ff0d5a3ffa3045f7948e73e3164f1b5a",
              "IPY_MODEL_6538a849d30d4a1ab6ce05745ffe564a",
              "IPY_MODEL_4ca7fd894e4f423b8f0ec40e1b3c26e1",
              "IPY_MODEL_985af5b4965c4333b08ad5590d6e09bd"
            ],
            "crs": {
              "name": "EPSG3857",
              "custom": false
            },
            "default_style": "IPY_MODEL_38a24a0d23374864890732295b60bf03",
            "double_click_zoom": true,
            "dragging": true,
            "dragging_style": "IPY_MODEL_fcf5e8bb5c2d4d28b65cdf2f2b7064a7",
            "east": -81.14357113838197,
            "fullscreen": false,
            "inertia": true,
            "inertia_deceleration": 3000,
            "inertia_max_speed": 1500,
            "interpolation": "bilinear",
            "keyboard": true,
            "keyboard_pan_offset": 80,
            "keyboard_zoom_offset": 1,
            "layers": [
              "IPY_MODEL_5e9ec086d1084db5a3684890ae9b4425",
              "IPY_MODEL_d2624358e794470b9f21ad655543c8bc"
            ],
            "layout": "IPY_MODEL_2199fc9fe3ba4f7e8c2e985606225d42",
            "left": 9212678,
            "max_zoom": 24,
            "min_zoom": null,
            "modisdate": "2024-07-01",
            "north": 41.02211599021635,
            "options": [
              "bounce_at_zoom_limits",
              "box_zoom",
              "center",
              "close_popup_on_click",
              "double_click_zoom",
              "dragging",
              "fullscreen",
              "inertia",
              "inertia_deceleration",
              "inertia_max_speed",
              "interpolation",
              "keyboard",
              "keyboard_pan_offset",
              "keyboard_zoom_offset",
              "max_zoom",
              "min_zoom",
              "prefer_canvas",
              "scroll_wheel_zoom",
              "tap",
              "tap_tolerance",
              "touch_zoom",
              "world_copy_jump",
              "zoom",
              "zoom_animation_threshold",
              "zoom_delta",
              "zoom_snap"
            ],
            "panes": {},
            "prefer_canvas": false,
            "right": 9214087,
            "scroll_wheel_zoom": true,
            "south": 41.01725914845465,
            "style": "IPY_MODEL_ed1ad99367964bcfb02612be2f1812a4",
            "tap": true,
            "tap_tolerance": 15,
            "top": 12577698,
            "touch_zoom": true,
            "west": -81.1586880683899,
            "window_url": "https://527llf93v1n-496ff2e9c6d22116-0-colab.googleusercontent.com/outputframe.html?vrz=colab_20240701-060124_RC00_648322817",
            "world_copy_jump": false,
            "zoom": 17,
            "zoom_animation_threshold": 4,
            "zoom_delta": 1,
            "zoom_snap": 1
          }
        },
        "eb71bd2d2e4c43c28c537b7ec07081c0": {
          "model_module": "jupyter-leaflet",
          "model_name": "LeafletWidgetControlModel",
          "model_module_version": "^0.18",
          "state": {
            "_model_module": "jupyter-leaflet",
            "_model_module_version": "^0.18",
            "_model_name": "LeafletWidgetControlModel",
            "_view_count": null,
            "_view_module": "jupyter-leaflet",
            "_view_module_version": "^0.18",
            "_view_name": "LeafletWidgetControlView",
            "max_height": null,
            "max_width": null,
            "min_height": null,
            "min_width": null,
            "options": [
              "position",
              "transparent_bg"
            ],
            "position": "topleft",
            "transparent_bg": false,
            "widget": "IPY_MODEL_bc519b4759dd4d87b53e0a54c9ddf10e"
          }
        },
        "9b3c76f6678240719446fc6f4b41bf0b": {
          "model_module": "jupyter-leaflet",
          "model_name": "LeafletZoomControlModel",
          "model_module_version": "^0.18",
          "state": {
            "_model_module": "jupyter-leaflet",
            "_model_module_version": "^0.18",
            "_model_name": "LeafletZoomControlModel",
            "_view_count": null,
            "_view_module": "jupyter-leaflet",
            "_view_module_version": "^0.18",
            "_view_name": "LeafletZoomControlView",
            "options": [
              "position",
              "zoom_in_text",
              "zoom_in_title",
              "zoom_out_text",
              "zoom_out_title"
            ],
            "position": "topleft",
            "zoom_in_text": "+",
            "zoom_in_title": "Zoom in",
            "zoom_out_text": "-",
            "zoom_out_title": "Zoom out"
          }
        },
        "2580b16e343145309f8ac99734ad1b4d": {
          "model_module": "jupyter-leaflet",
          "model_name": "LeafletFullScreenControlModel",
          "model_module_version": "^0.18",
          "state": {
            "_model_module": "jupyter-leaflet",
            "_model_module_version": "^0.18",
            "_model_name": "LeafletFullScreenControlModel",
            "_view_count": null,
            "_view_module": "jupyter-leaflet",
            "_view_module_version": "^0.18",
            "_view_name": "LeafletFullScreenControlView",
            "options": [
              "position"
            ],
            "position": "topleft"
          }
        },
        "84fdd9e6dbe3475fb25e2fec748b14e6": {
          "model_module": "jupyter-leaflet",
          "model_name": "LeafletDrawControlModel",
          "model_module_version": "^0.18",
          "state": {
            "_model_module": "jupyter-leaflet",
            "_model_module_version": "^0.18",
            "_model_name": "LeafletDrawControlModel",
            "_view_count": null,
            "_view_module": "jupyter-leaflet",
            "_view_module_version": "^0.18",
            "_view_name": "LeafletDrawControlView",
            "circle": {},
            "circlemarker": {},
            "data": [],
            "edit": true,
            "marker": {
              "shapeOptions": {
                "color": "#3388ff"
              }
            },
            "options": [
              "position"
            ],
            "polygon": {
              "shapeOptions": {}
            },
            "polyline": {
              "shapeOptions": {}
            },
            "position": "topleft",
            "rectangle": {
              "shapeOptions": {
                "color": "#3388ff"
              }
            },
            "remove": true
          }
        },
        "ff0d5a3ffa3045f7948e73e3164f1b5a": {
          "model_module": "jupyter-leaflet",
          "model_name": "LeafletScaleControlModel",
          "model_module_version": "^0.18",
          "state": {
            "_model_module": "jupyter-leaflet",
            "_model_module_version": "^0.18",
            "_model_name": "LeafletScaleControlModel",
            "_view_count": null,
            "_view_module": "jupyter-leaflet",
            "_view_module_version": "^0.18",
            "_view_name": "LeafletScaleControlView",
            "imperial": true,
            "max_width": 100,
            "metric": true,
            "options": [
              "imperial",
              "max_width",
              "metric",
              "position",
              "update_when_idle"
            ],
            "position": "bottomleft",
            "update_when_idle": false
          }
        },
        "6538a849d30d4a1ab6ce05745ffe564a": {
          "model_module": "jupyter-leaflet",
          "model_name": "LeafletMeasureControlModel",
          "model_module_version": "^0.18",
          "state": {
            "_custom_units": {},
            "_model_module": "jupyter-leaflet",
            "_model_module_version": "^0.18",
            "_model_name": "LeafletMeasureControlModel",
            "_view_count": null,
            "_view_module": "jupyter-leaflet",
            "_view_module_version": "^0.18",
            "_view_name": "LeafletMeasureControlView",
            "active_color": "orange",
            "capture_z_index": 10000,
            "completed_color": "#C8F2BE",
            "options": [
              "active_color",
              "capture_z_index",
              "completed_color",
              "popup_options",
              "position",
              "primary_area_unit",
              "primary_length_unit",
              "secondary_area_unit",
              "secondary_length_unit"
            ],
            "popup_options": {
              "className": "leaflet-measure-resultpopup",
              "autoPanPadding": [
                10,
                10
              ]
            },
            "position": "bottomleft",
            "primary_area_unit": "acres",
            "primary_length_unit": "kilometers",
            "secondary_area_unit": null,
            "secondary_length_unit": null
          }
        },
        "4ca7fd894e4f423b8f0ec40e1b3c26e1": {
          "model_module": "jupyter-leaflet",
          "model_name": "LeafletWidgetControlModel",
          "model_module_version": "^0.18",
          "state": {
            "_model_module": "jupyter-leaflet",
            "_model_module_version": "^0.18",
            "_model_name": "LeafletWidgetControlModel",
            "_view_count": null,
            "_view_module": "jupyter-leaflet",
            "_view_module_version": "^0.18",
            "_view_name": "LeafletWidgetControlView",
            "max_height": null,
            "max_width": null,
            "min_height": null,
            "min_width": null,
            "options": [
              "position",
              "transparent_bg"
            ],
            "position": "topright",
            "transparent_bg": false,
            "widget": "IPY_MODEL_42871cf1e3104069885152d0d93047fb"
          }
        },
        "985af5b4965c4333b08ad5590d6e09bd": {
          "model_module": "jupyter-leaflet",
          "model_name": "LeafletAttributionControlModel",
          "model_module_version": "^0.18",
          "state": {
            "_model_module": "jupyter-leaflet",
            "_model_module_version": "^0.18",
            "_model_name": "LeafletAttributionControlModel",
            "_view_count": null,
            "_view_module": "jupyter-leaflet",
            "_view_module_version": "^0.18",
            "_view_name": "LeafletAttributionControlView",
            "options": [
              "position",
              "prefix"
            ],
            "position": "bottomright",
            "prefix": "ipyleaflet"
          }
        },
        "38a24a0d23374864890732295b60bf03": {
          "model_module": "jupyter-leaflet",
          "model_name": "LeafletMapStyleModel",
          "model_module_version": "^0.18",
          "state": {
            "_model_module": "jupyter-leaflet",
            "_model_module_version": "^0.18",
            "_model_name": "LeafletMapStyleModel",
            "_view_count": null,
            "_view_module": "@jupyter-widgets/base",
            "_view_module_version": "1.2.0",
            "_view_name": "StyleView",
            "cursor": "grab"
          }
        },
        "fcf5e8bb5c2d4d28b65cdf2f2b7064a7": {
          "model_module": "jupyter-leaflet",
          "model_name": "LeafletMapStyleModel",
          "model_module_version": "^0.18",
          "state": {
            "_model_module": "jupyter-leaflet",
            "_model_module_version": "^0.18",
            "_model_name": "LeafletMapStyleModel",
            "_view_count": null,
            "_view_module": "@jupyter-widgets/base",
            "_view_module_version": "1.2.0",
            "_view_name": "StyleView",
            "cursor": "move"
          }
        },
        "5e9ec086d1084db5a3684890ae9b4425": {
          "model_module": "jupyter-leaflet",
          "model_name": "LeafletTileLayerModel",
          "model_module_version": "^0.18",
          "state": {
            "_model_module": "jupyter-leaflet",
            "_model_module_version": "^0.18",
            "_model_name": "LeafletTileLayerModel",
            "_view_count": null,
            "_view_module": "jupyter-leaflet",
            "_view_module_version": "^0.18",
            "_view_name": "LeafletTileLayerView",
            "attribution": "&copy; <a href=\"https://www.openstreetmap.org/copyright\">OpenStreetMap</a> contributors",
            "base": true,
            "bottom": true,
            "bounds": null,
            "detect_retina": false,
            "loading": false,
            "max_native_zoom": null,
            "max_zoom": 19,
            "min_native_zoom": null,
            "min_zoom": 1,
            "name": "OpenStreetMap.Mapnik",
            "no_wrap": false,
            "opacity": 1,
            "options": [
              "attribution",
              "bounds",
              "detect_retina",
              "max_native_zoom",
              "max_zoom",
              "min_native_zoom",
              "min_zoom",
              "no_wrap",
              "tile_size",
              "tms",
              "zoom_offset"
            ],
            "pane": "",
            "popup": null,
            "popup_max_height": null,
            "popup_max_width": 300,
            "popup_min_width": 50,
            "show_loading": false,
            "subitems": [],
            "tile_size": 256,
            "tms": false,
            "url": "https://tile.openstreetmap.org/{z}/{x}/{y}.png",
            "visible": true,
            "zoom_offset": 0
          }
        },
        "d2624358e794470b9f21ad655543c8bc": {
          "model_module": "jupyter-leaflet",
          "model_name": "LeafletTileLayerModel",
          "model_module_version": "^0.18",
          "state": {
            "_model_module": "jupyter-leaflet",
            "_model_module_version": "^0.18",
            "_model_name": "LeafletTileLayerModel",
            "_view_count": null,
            "_view_module": "jupyter-leaflet",
            "_view_module_version": "^0.18",
            "_view_name": "LeafletTileLayerView",
            "attribution": "Google Earth Engine",
            "base": false,
            "bottom": true,
            "bounds": null,
            "detect_retina": false,
            "loading": false,
            "max_native_zoom": null,
            "max_zoom": 24,
            "min_native_zoom": null,
            "min_zoom": 0,
            "name": "RGB",
            "no_wrap": false,
            "opacity": 1,
            "options": [
              "attribution",
              "bounds",
              "detect_retina",
              "max_native_zoom",
              "max_zoom",
              "min_native_zoom",
              "min_zoom",
              "no_wrap",
              "tile_size",
              "tms",
              "zoom_offset"
            ],
            "pane": "",
            "popup": null,
            "popup_max_height": null,
            "popup_max_width": 300,
            "popup_min_width": 50,
            "show_loading": false,
            "subitems": [],
            "tile_size": 256,
            "tms": false,
            "url": "https://earthengine-highvolume.googleapis.com/v1/projects/ksu-skytruth-vpca-automation/maps/9cad69383d5ecaefd6f008e3c2d601e6-fc85f4be23dbe773f6143083a447a8f3/tiles/{z}/{x}/{y}",
            "visible": true,
            "zoom_offset": 0
          }
        },
        "2199fc9fe3ba4f7e8c2e985606225d42": {
          "model_module": "@jupyter-widgets/base",
          "model_name": "LayoutModel",
          "model_module_version": "1.2.0",
          "state": {
            "_model_module": "@jupyter-widgets/base",
            "_model_module_version": "1.2.0",
            "_model_name": "LayoutModel",
            "_view_count": null,
            "_view_module": "@jupyter-widgets/base",
            "_view_module_version": "1.2.0",
            "_view_name": "LayoutView",
            "align_content": null,
            "align_items": null,
            "align_self": null,
            "border": null,
            "bottom": null,
            "display": null,
            "flex": null,
            "flex_flow": null,
            "grid_area": null,
            "grid_auto_columns": null,
            "grid_auto_flow": null,
            "grid_auto_rows": null,
            "grid_column": null,
            "grid_gap": null,
            "grid_row": null,
            "grid_template_areas": null,
            "grid_template_columns": null,
            "grid_template_rows": null,
            "height": "600px",
            "justify_content": null,
            "justify_items": null,
            "left": null,
            "margin": null,
            "max_height": null,
            "max_width": null,
            "min_height": null,
            "min_width": null,
            "object_fit": null,
            "object_position": null,
            "order": null,
            "overflow": null,
            "overflow_x": null,
            "overflow_y": null,
            "padding": null,
            "right": null,
            "top": null,
            "visibility": null,
            "width": null
          }
        },
        "ed1ad99367964bcfb02612be2f1812a4": {
          "model_module": "jupyter-leaflet",
          "model_name": "LeafletMapStyleModel",
          "model_module_version": "^0.18",
          "state": {
            "_model_module": "jupyter-leaflet",
            "_model_module_version": "^0.18",
            "_model_name": "LeafletMapStyleModel",
            "_view_count": null,
            "_view_module": "@jupyter-widgets/base",
            "_view_module_version": "1.2.0",
            "_view_name": "StyleView",
            "cursor": "grab"
          }
        },
        "bc519b4759dd4d87b53e0a54c9ddf10e": {
          "model_module": "@jupyter-widgets/controls",
          "model_name": "HBoxModel",
          "model_module_version": "1.5.0",
          "state": {
            "_dom_classes": [
              "geemap-colab"
            ],
            "_model_module": "@jupyter-widgets/controls",
            "_model_module_version": "1.5.0",
            "_model_name": "HBoxModel",
            "_view_count": null,
            "_view_module": "@jupyter-widgets/controls",
            "_view_module_version": "1.5.0",
            "_view_name": "HBoxView",
            "box_style": "",
            "children": [
              "IPY_MODEL_9fa8db00881a4b85967918ca35498c46"
            ],
            "layout": "IPY_MODEL_799dd55284764ea4a9b5e76391a66188"
          }
        },
        "42871cf1e3104069885152d0d93047fb": {
          "model_module": "@jupyter-widgets/controls",
          "model_name": "VBoxModel",
          "model_module_version": "1.5.0",
          "state": {
            "_dom_classes": [
              "geemap-colab"
            ],
            "_model_module": "@jupyter-widgets/controls",
            "_model_module_version": "1.5.0",
            "_model_name": "VBoxModel",
            "_view_count": null,
            "_view_module": "@jupyter-widgets/controls",
            "_view_module_version": "1.5.0",
            "_view_name": "VBoxView",
            "box_style": "",
            "children": [
              "IPY_MODEL_29d9583d561a424da4259957d6a570f7"
            ],
            "layout": "IPY_MODEL_a2b09764ce3947699e0bf252ec31ba76"
          }
        },
        "9fa8db00881a4b85967918ca35498c46": {
          "model_module": "@jupyter-widgets/controls",
          "model_name": "ToggleButtonModel",
          "model_module_version": "1.5.0",
          "state": {
            "_dom_classes": [],
            "_model_module": "@jupyter-widgets/controls",
            "_model_module_version": "1.5.0",
            "_model_name": "ToggleButtonModel",
            "_view_count": null,
            "_view_module": "@jupyter-widgets/controls",
            "_view_module_version": "1.5.0",
            "_view_name": "ToggleButtonView",
            "button_style": "",
            "description": "",
            "description_tooltip": null,
            "disabled": false,
            "icon": "globe",
            "layout": "IPY_MODEL_36e3066698c844c3b8a28672004c6019",
            "style": "IPY_MODEL_64ea90b399f142b3a9ac3483db2cc0c4",
            "tooltip": "Search location/data",
            "value": false
          }
        },
        "799dd55284764ea4a9b5e76391a66188": {
          "model_module": "@jupyter-widgets/base",
          "model_name": "LayoutModel",
          "model_module_version": "1.2.0",
          "state": {
            "_model_module": "@jupyter-widgets/base",
            "_model_module_version": "1.2.0",
            "_model_name": "LayoutModel",
            "_view_count": null,
            "_view_module": "@jupyter-widgets/base",
            "_view_module_version": "1.2.0",
            "_view_name": "LayoutView",
            "align_content": null,
            "align_items": null,
            "align_self": null,
            "border": null,
            "bottom": null,
            "display": null,
            "flex": null,
            "flex_flow": null,
            "grid_area": null,
            "grid_auto_columns": null,
            "grid_auto_flow": null,
            "grid_auto_rows": null,
            "grid_column": null,
            "grid_gap": null,
            "grid_row": null,
            "grid_template_areas": null,
            "grid_template_columns": null,
            "grid_template_rows": null,
            "height": null,
            "justify_content": null,
            "justify_items": null,
            "left": null,
            "margin": null,
            "max_height": null,
            "max_width": null,
            "min_height": null,
            "min_width": null,
            "object_fit": null,
            "object_position": null,
            "order": null,
            "overflow": null,
            "overflow_x": null,
            "overflow_y": null,
            "padding": null,
            "right": null,
            "top": null,
            "visibility": null,
            "width": null
          }
        },
        "29d9583d561a424da4259957d6a570f7": {
          "model_module": "@jupyter-widgets/controls",
          "model_name": "ToggleButtonModel",
          "model_module_version": "1.5.0",
          "state": {
            "_dom_classes": [],
            "_model_module": "@jupyter-widgets/controls",
            "_model_module_version": "1.5.0",
            "_model_name": "ToggleButtonModel",
            "_view_count": null,
            "_view_module": "@jupyter-widgets/controls",
            "_view_module_version": "1.5.0",
            "_view_name": "ToggleButtonView",
            "button_style": "",
            "description": "",
            "description_tooltip": null,
            "disabled": false,
            "icon": "wrench",
            "layout": "IPY_MODEL_98f1abf08b0a4c62b568b5ae2787bb89",
            "style": "IPY_MODEL_4fde705b67d44f0ea1ac763c048bacfb",
            "tooltip": "Toolbar",
            "value": false
          }
        },
        "a2b09764ce3947699e0bf252ec31ba76": {
          "model_module": "@jupyter-widgets/base",
          "model_name": "LayoutModel",
          "model_module_version": "1.2.0",
          "state": {
            "_model_module": "@jupyter-widgets/base",
            "_model_module_version": "1.2.0",
            "_model_name": "LayoutModel",
            "_view_count": null,
            "_view_module": "@jupyter-widgets/base",
            "_view_module_version": "1.2.0",
            "_view_name": "LayoutView",
            "align_content": null,
            "align_items": null,
            "align_self": null,
            "border": null,
            "bottom": null,
            "display": null,
            "flex": null,
            "flex_flow": null,
            "grid_area": null,
            "grid_auto_columns": null,
            "grid_auto_flow": null,
            "grid_auto_rows": null,
            "grid_column": null,
            "grid_gap": null,
            "grid_row": null,
            "grid_template_areas": null,
            "grid_template_columns": null,
            "grid_template_rows": null,
            "height": null,
            "justify_content": null,
            "justify_items": null,
            "left": null,
            "margin": null,
            "max_height": null,
            "max_width": null,
            "min_height": null,
            "min_width": null,
            "object_fit": null,
            "object_position": null,
            "order": null,
            "overflow": null,
            "overflow_x": null,
            "overflow_y": null,
            "padding": null,
            "right": null,
            "top": null,
            "visibility": null,
            "width": null
          }
        },
        "36e3066698c844c3b8a28672004c6019": {
          "model_module": "@jupyter-widgets/base",
          "model_name": "LayoutModel",
          "model_module_version": "1.2.0",
          "state": {
            "_model_module": "@jupyter-widgets/base",
            "_model_module_version": "1.2.0",
            "_model_name": "LayoutModel",
            "_view_count": null,
            "_view_module": "@jupyter-widgets/base",
            "_view_module_version": "1.2.0",
            "_view_name": "LayoutView",
            "align_content": null,
            "align_items": null,
            "align_self": null,
            "border": null,
            "bottom": null,
            "display": null,
            "flex": null,
            "flex_flow": null,
            "grid_area": null,
            "grid_auto_columns": null,
            "grid_auto_flow": null,
            "grid_auto_rows": null,
            "grid_column": null,
            "grid_gap": null,
            "grid_row": null,
            "grid_template_areas": null,
            "grid_template_columns": null,
            "grid_template_rows": null,
            "height": "28px",
            "justify_content": null,
            "justify_items": null,
            "left": null,
            "margin": null,
            "max_height": null,
            "max_width": null,
            "min_height": null,
            "min_width": null,
            "object_fit": null,
            "object_position": null,
            "order": null,
            "overflow": null,
            "overflow_x": null,
            "overflow_y": null,
            "padding": "0px 0px 0px 4px",
            "right": null,
            "top": null,
            "visibility": null,
            "width": "28px"
          }
        },
        "64ea90b399f142b3a9ac3483db2cc0c4": {
          "model_module": "@jupyter-widgets/controls",
          "model_name": "DescriptionStyleModel",
          "model_module_version": "1.5.0",
          "state": {
            "_model_module": "@jupyter-widgets/controls",
            "_model_module_version": "1.5.0",
            "_model_name": "DescriptionStyleModel",
            "_view_count": null,
            "_view_module": "@jupyter-widgets/base",
            "_view_module_version": "1.2.0",
            "_view_name": "StyleView",
            "description_width": ""
          }
        },
        "98f1abf08b0a4c62b568b5ae2787bb89": {
          "model_module": "@jupyter-widgets/base",
          "model_name": "LayoutModel",
          "model_module_version": "1.2.0",
          "state": {
            "_model_module": "@jupyter-widgets/base",
            "_model_module_version": "1.2.0",
            "_model_name": "LayoutModel",
            "_view_count": null,
            "_view_module": "@jupyter-widgets/base",
            "_view_module_version": "1.2.0",
            "_view_name": "LayoutView",
            "align_content": null,
            "align_items": null,
            "align_self": null,
            "border": null,
            "bottom": null,
            "display": null,
            "flex": null,
            "flex_flow": null,
            "grid_area": null,
            "grid_auto_columns": null,
            "grid_auto_flow": null,
            "grid_auto_rows": null,
            "grid_column": null,
            "grid_gap": null,
            "grid_row": null,
            "grid_template_areas": null,
            "grid_template_columns": null,
            "grid_template_rows": null,
            "height": "28px",
            "justify_content": null,
            "justify_items": null,
            "left": null,
            "margin": null,
            "max_height": null,
            "max_width": null,
            "min_height": null,
            "min_width": null,
            "object_fit": null,
            "object_position": null,
            "order": null,
            "overflow": null,
            "overflow_x": null,
            "overflow_y": null,
            "padding": "0px 0px 0px 4px",
            "right": null,
            "top": null,
            "visibility": null,
            "width": "28px"
          }
        },
        "4fde705b67d44f0ea1ac763c048bacfb": {
          "model_module": "@jupyter-widgets/controls",
          "model_name": "DescriptionStyleModel",
          "model_module_version": "1.5.0",
          "state": {
            "_model_module": "@jupyter-widgets/controls",
            "_model_module_version": "1.5.0",
            "_model_name": "DescriptionStyleModel",
            "_view_count": null,
            "_view_module": "@jupyter-widgets/base",
            "_view_module_version": "1.2.0",
            "_view_name": "StyleView",
            "description_width": ""
          }
        }
      }
    }
  },
  "cells": [
    {
      "cell_type": "code",
      "source": [
        "# Imports used in this notebook.\n",
        "import matplotlib as mpl\n",
        "import ee\n",
        "import folium\n",
        "import sys\n",
        "import time\n",
        "import numpy as np\n",
        "import matplotlib.pyplot as plt\n",
        "from ee import batch\n",
        "from matplotlib import cm\n",
        "from google.colab import drive\n",
        "from pprint import pprint as pp\n",
        "from uuid import uuid1 as uniqueID\n",
        "\n",
        "# Must authenticate your EE account before use of the package.\n",
        "ee.Authenticate()\n",
        "#ee.Initialize()\n",
        "ee.Initialize(project='ksu-skytruth-vpca-automation', opt_url='https://earthengine-highvolume.googleapis.com')\n",
        "\n"
      ],
      "metadata": {
        "id": "DSPPb-lB1kp5",
        "colab": {
          "base_uri": "https://localhost:8080/",
          "height": 17
        },
        "outputId": "a7c5044a-5758-4be3-db55-4252860f82a2"
      },
      "execution_count": 17,
      "outputs": [
        {
          "output_type": "display_data",
          "data": {
            "text/plain": [
              "<IPython.core.display.HTML object>"
            ],
            "text/html": [
              "\n",
              "            <style>\n",
              "                .geemap-dark {\n",
              "                    --jp-widgets-color: white;\n",
              "                    --jp-widgets-label-color: white;\n",
              "                    --jp-ui-font-color1: white;\n",
              "                    --jp-layout-color2: #454545;\n",
              "                    background-color: #383838;\n",
              "                }\n",
              "\n",
              "                .geemap-dark .jupyter-button {\n",
              "                    --jp-layout-color3: #383838;\n",
              "                }\n",
              "\n",
              "                .geemap-colab {\n",
              "                    background-color: var(--colab-primary-surface-color, white);\n",
              "                }\n",
              "\n",
              "                .geemap-colab .jupyter-button {\n",
              "                    --jp-layout-color3: var(--colab-primary-surface-color, white);\n",
              "                }\n",
              "            </style>\n",
              "            "
            ]
          },
          "metadata": {}
        }
      ]
    },
    {
      "cell_type": "code",
      "source": [
        "import geemap\n",
        "def mask_s2_clouds(image):\n",
        "  \"\"\"Masks clouds in a Sentinel-2 image using the QA band.\n",
        "\n",
        "  Args:\n",
        "      image (ee.Image): A Sentinel-2 image.\n",
        "\n",
        "\n",
        "  Returns:\n",
        "      ee.Image: A cloud-masked Sentinel-2 image.\n",
        "  \"\"\"\n",
        "  # water_pixels = (image.select('QA60').eq(0).\n",
        "  qa = image.select('QA60').eq(0).And(image.select('SCL').eq(4))\n",
        "\n",
        "  # Bits 10 and 11 are clouds and cirrus, respectively.\n",
        "  cloud_bit_mask = 1 << 10\n",
        "  cirrus_bit_mask = 1 << 11\n",
        "\n",
        "  # Both flags should be set to zero, indicating clear conditions.\n",
        "  mask = (\n",
        "      qa.bitwiseAnd(cloud_bit_mask)\n",
        "      .eq(0)\n",
        "      .And(qa.bitwiseAnd(cirrus_bit_mask).eq(0))\n",
        "  )\n",
        "  return image.updateMask(mask).divide(10000)\n",
        "\n",
        "dateRange = ['2023-11-10', '2023-11-20']\n",
        "\n",
        "# #LW Field No Till\n",
        "# [-81.15201, 41.018108]\n",
        "# [-81.150265, 41.018474]\n",
        "# [-81.150169, 41.021064]\n",
        "# [-81.152002, 41.021079]\n",
        "\n",
        "upperLeft = [-81.1583124,  41.0254715 ]\n",
        "lowerRight = [-81.1469973,  41.0135215 ]\n",
        "roi = ee.Geometry.Polygon(\n",
        "  [[-81.15201, 41.018108],\n",
        "   [-81.150265, 41.018474],\n",
        "   [-81.150169, 41.021064],\n",
        "   [-81.152002, 41.021079],\n",
        "   [-81.15201, 41.018108]]\n",
        ")\n",
        "dataset = (\n",
        "    ee.ImageCollection('COPERNICUS/S2_SR')\n",
        "    .filterDate('2023-11-10', '2023-11-20').filterBounds(roi)\n",
        "    # Pre-filter to get less cloudy granules.\n",
        "    .filter(ee.Filter.lt('CLOUDY_PIXEL_PERCENTAGE', 55))\n",
        "    .map(mask_s2_clouds)\n",
        ")\n",
        "\n",
        "\n",
        "visualization = {\n",
        "    'min': 0.0,\n",
        "    'max': 0.3,\n",
        "    'bands': ['B4', 'B3', 'B2'],\n",
        "}\n",
        "\n",
        "\n",
        "m = geemap.Map()\n",
        "m.set_center(-81.15113220018283, 41.01969153364965, 17)\n",
        "m.add_layer(dataset.mean(), visualization, 'RGB')\n",
        "m\n",
        "\n"
      ],
      "metadata": {
        "colab": {
          "base_uri": "https://localhost:8080/",
          "height": 621,
          "referenced_widgets": [
            "e438aa674d5542e9a67055be9e633987",
            "eb71bd2d2e4c43c28c537b7ec07081c0",
            "9b3c76f6678240719446fc6f4b41bf0b",
            "2580b16e343145309f8ac99734ad1b4d",
            "84fdd9e6dbe3475fb25e2fec748b14e6",
            "ff0d5a3ffa3045f7948e73e3164f1b5a",
            "6538a849d30d4a1ab6ce05745ffe564a",
            "4ca7fd894e4f423b8f0ec40e1b3c26e1",
            "985af5b4965c4333b08ad5590d6e09bd",
            "38a24a0d23374864890732295b60bf03",
            "fcf5e8bb5c2d4d28b65cdf2f2b7064a7",
            "5e9ec086d1084db5a3684890ae9b4425",
            "d2624358e794470b9f21ad655543c8bc",
            "2199fc9fe3ba4f7e8c2e985606225d42",
            "ed1ad99367964bcfb02612be2f1812a4",
            "bc519b4759dd4d87b53e0a54c9ddf10e",
            "42871cf1e3104069885152d0d93047fb",
            "9fa8db00881a4b85967918ca35498c46",
            "799dd55284764ea4a9b5e76391a66188",
            "29d9583d561a424da4259957d6a570f7",
            "a2b09764ce3947699e0bf252ec31ba76",
            "36e3066698c844c3b8a28672004c6019",
            "64ea90b399f142b3a9ac3483db2cc0c4",
            "98f1abf08b0a4c62b568b5ae2787bb89",
            "4fde705b67d44f0ea1ac763c048bacfb"
          ]
        },
        "id": "TvKaKoU61x2B",
        "outputId": "b5af2d46-4d11-4867-e0b3-e1a9aec819de"
      },
      "execution_count": 28,
      "outputs": [
        {
          "output_type": "display_data",
          "data": {
            "text/plain": [
              "<IPython.core.display.HTML object>"
            ],
            "text/html": [
              "\n",
              "            <style>\n",
              "                .geemap-dark {\n",
              "                    --jp-widgets-color: white;\n",
              "                    --jp-widgets-label-color: white;\n",
              "                    --jp-ui-font-color1: white;\n",
              "                    --jp-layout-color2: #454545;\n",
              "                    background-color: #383838;\n",
              "                }\n",
              "\n",
              "                .geemap-dark .jupyter-button {\n",
              "                    --jp-layout-color3: #383838;\n",
              "                }\n",
              "\n",
              "                .geemap-colab {\n",
              "                    background-color: var(--colab-primary-surface-color, white);\n",
              "                }\n",
              "\n",
              "                .geemap-colab .jupyter-button {\n",
              "                    --jp-layout-color3: var(--colab-primary-surface-color, white);\n",
              "                }\n",
              "            </style>\n",
              "            "
            ]
          },
          "metadata": {}
        },
        {
          "output_type": "display_data",
          "data": {
            "text/plain": [
              "Map(center=[41.01969153364965, -81.15113220018283], controls=(WidgetControl(options=['position', 'transparent_…"
            ],
            "application/vnd.jupyter.widget-view+json": {
              "version_major": 2,
              "version_minor": 0,
              "model_id": "e438aa674d5542e9a67055be9e633987"
            }
          },
          "metadata": {
            "application/vnd.jupyter.widget-view+json": {
              "colab": {
                "custom_widget_manager": {
                  "url": "https://ssl.gstatic.com/colaboratory-static/widgets/colab-cdn-widget-manager/2b70e893a8ba7c0f/manager.min.js"
                }
              }
            }
          }
        }
      ]
    },
    {
      "cell_type": "code",
      "source": [
        "\n",
        "# Define the polygon geometry\n",
        "roi = ee.Geometry.Polygon(\n",
        "  [[-81.15201, 41.018108],\n",
        "   [-81.150265, 41.018474],\n",
        "   [-81.150169, 41.021064],\n",
        "   [-81.152002, 41.021079],\n",
        "   [-81.15201, 41.018108]]\n",
        ")\n",
        "\n",
        "# Get the centroid of the polygon\n",
        "centroid = roi.centroid()\n",
        "\n",
        "# Print the coordinates of the centroid\n",
        "centroid_coords = centroid.getInfo()['coordinates']\n",
        "print(\"Centroid coordinates:\", centroid_coords)"
      ],
      "metadata": {
        "colab": {
          "base_uri": "https://localhost:8080/",
          "height": 34
        },
        "id": "S2EtUwhSEWOM",
        "outputId": "8b0adccc-80e9-443d-af84-d0eb68cd5437"
      },
      "execution_count": 19,
      "outputs": [
        {
          "output_type": "display_data",
          "data": {
            "text/plain": [
              "<IPython.core.display.HTML object>"
            ],
            "text/html": [
              "\n",
              "            <style>\n",
              "                .geemap-dark {\n",
              "                    --jp-widgets-color: white;\n",
              "                    --jp-widgets-label-color: white;\n",
              "                    --jp-ui-font-color1: white;\n",
              "                    --jp-layout-color2: #454545;\n",
              "                    background-color: #383838;\n",
              "                }\n",
              "\n",
              "                .geemap-dark .jupyter-button {\n",
              "                    --jp-layout-color3: #383838;\n",
              "                }\n",
              "\n",
              "                .geemap-colab {\n",
              "                    background-color: var(--colab-primary-surface-color, white);\n",
              "                }\n",
              "\n",
              "                .geemap-colab .jupyter-button {\n",
              "                    --jp-layout-color3: var(--colab-primary-surface-color, white);\n",
              "                }\n",
              "            </style>\n",
              "            "
            ]
          },
          "metadata": {}
        },
        {
          "output_type": "stream",
          "name": "stdout",
          "text": [
            "Centroid coordinates: [-81.15113220018283, 41.01969153364965]\n"
          ]
        }
      ]
    },
    {
      "cell_type": "code",
      "source": [
        "link = dataset.mean().getDownloadURL({\n",
        "    'scale': 10,\n",
        "    'crs': 'EPSG:4326',\n",
        "    'fileFormat': 'GeoTIFF',\n",
        "    'region': roi})\n",
        "print(link)"
      ],
      "metadata": {
        "colab": {
          "base_uri": "https://localhost:8080/",
          "height": 34
        },
        "id": "mMQ_h7vV9mvC",
        "outputId": "b0ffa231-2665-44c0-ce25-db7fe032846f"
      },
      "execution_count": 20,
      "outputs": [
        {
          "output_type": "display_data",
          "data": {
            "text/plain": [
              "<IPython.core.display.HTML object>"
            ],
            "text/html": [
              "\n",
              "            <style>\n",
              "                .geemap-dark {\n",
              "                    --jp-widgets-color: white;\n",
              "                    --jp-widgets-label-color: white;\n",
              "                    --jp-ui-font-color1: white;\n",
              "                    --jp-layout-color2: #454545;\n",
              "                    background-color: #383838;\n",
              "                }\n",
              "\n",
              "                .geemap-dark .jupyter-button {\n",
              "                    --jp-layout-color3: #383838;\n",
              "                }\n",
              "\n",
              "                .geemap-colab {\n",
              "                    background-color: var(--colab-primary-surface-color, white);\n",
              "                }\n",
              "\n",
              "                .geemap-colab .jupyter-button {\n",
              "                    --jp-layout-color3: var(--colab-primary-surface-color, white);\n",
              "                }\n",
              "            </style>\n",
              "            "
            ]
          },
          "metadata": {}
        },
        {
          "output_type": "stream",
          "name": "stdout",
          "text": [
            "https://earthengine-highvolume.googleapis.com/v1/projects/ksu-skytruth-vpca-automation/thumbnails/b07a3f45f15f152e3fae6f261d9a8c61-b1b7077bac17525dd777ada141787c2c:getPixels\n"
          ]
        }
      ]
    }
  ]
}